{
 "cells": [
  {
   "cell_type": "markdown",
   "id": "3f69cb65-9604-45eb-b0d3-129fe18eafbc",
   "metadata": {},
   "source": [
    "## Ingesting green_taxi_trips"
   ]
  },
  {
   "cell_type": "code",
   "execution_count": 1,
   "id": "2f42ddb5-81aa-4c66-aa56-2a9617ac4306",
   "metadata": {},
   "outputs": [],
   "source": [
    "import pandas as pd\n",
    "import requests\n",
    "from sqlalchemy import create_engine\n",
    "import gzip\n",
    "import shutil"
   ]
  },
  {
   "cell_type": "code",
   "execution_count": 2,
   "id": "d64567ff-7851-499a-9eeb-d424be7b8b58",
   "metadata": {},
   "outputs": [],
   "source": [
    "url = \"https://github.com/DataTalksClub/nyc-tlc-data/releases/download/green/green_tripdata_2019-10.csv.gz\"\n",
    "\n",
    "user = \"postgres\"\n",
    "password = \"postgres\"\n",
    "db = \"ny_taxi\"\n",
    "host = \"localhost\"\n",
    "port = 5433\n",
    "\n",
    "table_name = \"green_taxi_trips_201910\""
   ]
  },
  {
   "cell_type": "code",
   "execution_count": 3,
   "id": "0911be22-871d-47ef-97a7-cf4518e564a8",
   "metadata": {},
   "outputs": [],
   "source": [
    "response = requests.get(url)\n",
    "if response.status_code == 200:\n",
    "    with open(\"green_tripdata_2019-10.csv.gz\", \"wb\") as f_out:\n",
    "        f_out.write(response.content)\n",
    "else:\n",
    "    print(f\"Error code: {response.status_code}\")\n",
    "\n",
    "with gzip.open(\"green_tripdata_2019-10.csv.gz\", \"rb\") as f_in:\n",
    "    with open(\"green_trip_201910.csv\", \"wb\") as f_out:\n",
    "        shutil.copyfileobj(f_in, f_out)"
   ]
  },
  {
   "cell_type": "code",
   "execution_count": 4,
   "id": "7906e82c-f216-455b-8978-3148076f16e6",
   "metadata": {},
   "outputs": [],
   "source": [
    "engine = create_engine(f\"postgresql://{user}:{password}@{host}:{port}/{db}\")"
   ]
  },
  {
   "cell_type": "code",
   "execution_count": 5,
   "id": "b9cb0f23-8c2a-4920-944f-a6b9d4066a26",
   "metadata": {},
   "outputs": [],
   "source": [
    "df_iter = pd.read_csv(\"green_trip_201910.csv\", iterator=True, chunksize=100000)\n",
    "df = next(df_iter)\n",
    "\n",
    "df.lpep_dropoff_datetime = pd.to_datetime(df.lpep_dropoff_datetime)\n",
    "df.lpep_pickup_datetime = pd.to_datetime(df.lpep_pickup_datetime)"
   ]
  },
  {
   "cell_type": "code",
   "execution_count": 6,
   "id": "054d0611-149a-4b93-8c63-98a1208f6927",
   "metadata": {},
   "outputs": [
    {
     "data": {
      "text/plain": [
       "1000"
      ]
     },
     "execution_count": 6,
     "metadata": {},
     "output_type": "execute_result"
    }
   ],
   "source": [
    "df.head(n=0).to_sql(name=table_name, con=engine, if_exists=\"replace\")\n",
    "\n",
    "## ingesting the fhrst chunk of data\n",
    "df.to_sql(name=table_name, con=engine, if_exists=\"append\")"
   ]
  },
  {
   "cell_type": "code",
   "execution_count": 7,
   "id": "5207050a-2240-4adc-a704-d2664e4bb065",
   "metadata": {},
   "outputs": [
    {
     "name": "stdout",
     "output_type": "stream",
     "text": [
      "Inserted another chunk\n",
      "Inserted another chunk\n"
     ]
    },
    {
     "name": "stderr",
     "output_type": "stream",
     "text": [
      "/tmp/ipykernel_34435/610660675.py:5: DtypeWarning: Columns (3) have mixed types. Specify dtype option on import or set low_memory=False.\n",
      "  df = next(df_iter)\n"
     ]
    },
    {
     "name": "stdout",
     "output_type": "stream",
     "text": [
      "Inserted another chunk\n",
      "Inserted another chunk\n",
      "Insertion Completed\n"
     ]
    }
   ],
   "source": [
    "## ingesting the remaining data \n",
    "\n",
    "while True:\n",
    "    try:\n",
    "        df = next(df_iter)\n",
    "        df.lpep_dropoff_datetime = pd.to_datetime(df.lpep_dropoff_datetime)\n",
    "        df.lpep_pickup_datetime = pd.to_datetime(df.lpep_pickup_datetime)\n",
    "        df.to_sql(name=table_name, con=engine, if_exists=\"append\")\n",
    "        print(\"Inserted another chunk\")\n",
    "    except:\n",
    "        print(\"Insertion Completed\")\n",
    "        break"
   ]
  },
  {
   "cell_type": "markdown",
   "id": "c44d0765-bffb-47d3-8585-b5289826d208",
   "metadata": {},
   "source": [
    "### Ingesting zones data"
   ]
  },
  {
   "cell_type": "code",
   "execution_count": 8,
   "id": "d8532c04-c043-4058-8bc9-5f587df8cb3e",
   "metadata": {},
   "outputs": [],
   "source": [
    "url = \"https://github.com/DataTalksClub/nyc-tlc-data/releases/download/misc/taxi_zone_lookup.csv\""
   ]
  },
  {
   "cell_type": "code",
   "execution_count": 9,
   "id": "d0f75b3d-6416-48da-8284-c7417dd71689",
   "metadata": {},
   "outputs": [],
   "source": [
    "user = \"postgres\"\n",
    "password = \"postgres\"\n",
    "db = \"ny_taxi\"\n",
    "host = \"localhost\"\n",
    "port = 5433"
   ]
  },
  {
   "cell_type": "code",
   "execution_count": 10,
   "id": "687b01f2-7539-4e21-9662-20b0e61f97ea",
   "metadata": {},
   "outputs": [],
   "source": [
    "table_name = \"zones\""
   ]
  },
  {
   "cell_type": "code",
   "execution_count": 11,
   "id": "c0c6cfd2-12cb-4949-aaa9-57bc2475c7d6",
   "metadata": {},
   "outputs": [],
   "source": [
    "response = requests.get(url)\n",
    "if response.status_code == 200:\n",
    "    with open(\"zones.csv\", \"wb\") as f_out:\n",
    "        f_out.write(response.content)\n",
    "else:\n",
    "    print(f\"Error code: {response.status_code}\")"
   ]
  },
  {
   "cell_type": "code",
   "execution_count": 12,
   "id": "9bbd9c6e-649c-4ae1-bb9b-345977afe919",
   "metadata": {},
   "outputs": [],
   "source": [
    "df = pd.read_csv(\"zones.csv\")"
   ]
  },
  {
   "cell_type": "code",
   "execution_count": 13,
   "id": "cfb73a82-7975-4f59-8c16-b12f07fadb6d",
   "metadata": {},
   "outputs": [
    {
     "data": {
      "text/plain": [
       "LocationID       int64\n",
       "Borough         object\n",
       "Zone            object\n",
       "service_zone    object\n",
       "dtype: object"
      ]
     },
     "execution_count": 13,
     "metadata": {},
     "output_type": "execute_result"
    }
   ],
   "source": [
    "df.dtypes"
   ]
  },
  {
   "cell_type": "code",
   "execution_count": 14,
   "id": "87b24a9f-e833-46f8-93cf-2afc7ef853a5",
   "metadata": {},
   "outputs": [
    {
     "data": {
      "text/plain": [
       "0"
      ]
     },
     "execution_count": 14,
     "metadata": {},
     "output_type": "execute_result"
    }
   ],
   "source": [
    "df.head(n=0).to_sql(name=table_name, con=engine, if_exists=\"replace\")"
   ]
  },
  {
   "cell_type": "code",
   "execution_count": 15,
   "id": "628faf60-5b50-4d7b-91d6-63eb512cdde6",
   "metadata": {},
   "outputs": [
    {
     "data": {
      "text/plain": [
       "265"
      ]
     },
     "execution_count": 15,
     "metadata": {},
     "output_type": "execute_result"
    }
   ],
   "source": [
    "df.to_sql(name=table_name, con=engine, if_exists=\"append\")"
   ]
  },
  {
   "cell_type": "code",
   "execution_count": null,
   "id": "9faa6dce-59b2-499c-b532-13b55f7853a9",
   "metadata": {},
   "outputs": [],
   "source": []
  }
 ],
 "metadata": {
  "kernelspec": {
   "display_name": "de_zoomcamp",
   "language": "python",
   "name": "de_zoomcamp"
  },
  "language_info": {
   "codemirror_mode": {
    "name": "ipython",
    "version": 3
   },
   "file_extension": ".py",
   "mimetype": "text/x-python",
   "name": "python",
   "nbconvert_exporter": "python",
   "pygments_lexer": "ipython3",
   "version": "3.10.16"
  }
 },
 "nbformat": 4,
 "nbformat_minor": 5
}
